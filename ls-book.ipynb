{
 "cells": [
  {
   "cell_type": "code",
   "execution_count": null,
   "metadata": {},
   "outputs": [],
   "source": [
    "import requests\n",
    "from bs4 import BeautifulSoup\n",
    "import time"
   ]
  },
  {
   "cell_type": "code",
   "execution_count": null,
   "metadata": {},
   "outputs": [],
   "source": [
    "cookies = {    \n",
    "    'SID': 'YOUR_SID_HERE',\n",
    "}\n",
    "\n",
    "# Установка User-Agent: https://stackoverflow.com/a/10606260/9370853\n",
    "headers = {\n",
    "    'User-Agent': 'Mozilla/5.0 (X11; Linux x86_64) AppleWebKit/537.36 (KHTML, like Gecko) Ubuntu Chromium/81.0.4044.122 Chrome/81.0.4044.122 Safari/537.36',\n",
    "}"
   ]
  },
  {
   "cell_type": "code",
   "execution_count": null,
   "metadata": {},
   "outputs": [],
   "source": [
    "# Как задать cookies: https://stackoverflow.com/a/7164897/9370853\n",
    "\n",
    "def dl_books(page_idx):\n",
    "    res = requests.get(\"https://www.litres.ru/pages/my_books_fresh/page-{}/?lite=1\".format(page_idx), cookies=cookies, headers=headers)\n",
    "    html_data = res.content\n",
    "    return html_data"
   ]
  },
  {
   "cell_type": "code",
   "execution_count": null,
   "metadata": {},
   "outputs": [],
   "source": [
    "my_books_all = []\n",
    "\n",
    "page_idx = 1\n",
    "while True:\n",
    "    soup = BeautifulSoup(dl_books(page_idx), \"html.parser\")\n",
    "    \n",
    "    # Как выбрать элементы по CSS-классу: https://stackoverflow.com/a/5041056/9370853\n",
    "    books = soup.findAll(\"div\", {\"class\": \"art-item\"})\n",
    "    \n",
    "    if len(books) == 0:\n",
    "        break\n",
    "    for book in books:\n",
    "#         print(book)\n",
    "        book_author = book.find(\"div\", {\"class\": \"art__author\"})        \n",
    "        if book_author is None:  # https://www.litres.ru/valentina-kolyvanova/cvetnaya-imperiya-rossiya-do-potryaseniy-fot-19194085/\n",
    "            book_author = \"Default fallback author\"\n",
    "            warnings.warn(\"A book without an author has appeared\")\n",
    "        else:\n",
    "            book_author_1 = book_author.find(\"a\")\n",
    "            if book_author_1 is not None:\n",
    "                # Получение значения атрибута: https://stackoverflow.com/a/2612577/9370853\n",
    "                book_author = book_author_1['title']\n",
    "            else:\n",
    "                book_author_2 = book_author.select_one(\"span\")\n",
    "                if book_author_2 is not None:\n",
    "                    # Получение текста из span-тега: https://stackoverflow.com/questions/38133759/how-to-get-text-from-span-tag-in-beautifulsoup\n",
    "                    book_author = book_author_2.text\n",
    "\n",
    "        book_name_and_url = book.find(\"div\", {\"class\": \"art__name\"}).find(\"a\")\n",
    "        if book_name_and_url is not None:\n",
    "            book_name = book_name_and_url['title']\n",
    "            book_url = \"https://www.litres.ru{0}\".format(book_name_and_url['href'])\n",
    "            my_books_all.append({ 'url': book_url, 'author': book_author, 'name': book_name })\n",
    "        else:\n",
    "            warnings.warn(\"A book without URL has appeared\")\n",
    "    \n",
    "    print(page_idx)\n",
    "    page_idx += 1\n",
    "    \n",
    "    # Задержка в секундах: https://www.tutorialspoint.com/python/time_sleep.htm\n",
    "    time.sleep(3)\n",
    "    \n",
    "#     break\n",
    "\n",
    "f = open(\"my_books_all.html\", \"w\")\n",
    "for my_book in my_books_all:\n",
    "    f.write('<a href=\"{0}\" rel=\"nofollow\">{1} - {2}</a><br>\\n'.format(my_book['url'], my_book['author'], my_book['name']))\n",
    "f.close()"
   ]
  },
  {
   "cell_type": "code",
   "execution_count": null,
   "metadata": {},
   "outputs": [],
   "source": []
  }
 ],
 "metadata": {
  "kernelspec": {
   "display_name": "Python 3",
   "language": "python",
   "name": "python3"
  },
  "language_info": {
   "codemirror_mode": {
    "name": "ipython",
    "version": 3
   },
   "file_extension": ".py",
   "mimetype": "text/x-python",
   "name": "python",
   "nbconvert_exporter": "python",
   "pygments_lexer": "ipython3",
   "version": "3.6.9"
  }
 },
 "nbformat": 4,
 "nbformat_minor": 2
}
